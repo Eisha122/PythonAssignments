{
 "cells": [
  {
   "cell_type": "markdown",
   "id": "aa07823a",
   "metadata": {},
   "source": [
    "Assignment 2"
   ]
  },
  {
   "cell_type": "code",
   "execution_count": 6,
   "id": "5cda339a",
   "metadata": {},
   "outputs": [
    {
     "name": "stdout",
     "output_type": "stream",
     "text": [
      "enter a string : saras\n",
      "saras  is a palindrome\n"
     ]
    }
   ],
   "source": [
    "#ques1) palindrome function without using slicing\n",
    "name=input(\"enter a string : \")\n",
    "m=\"\"\n",
    "for i in name:\n",
    "    m=i+m\n",
    "if(name==m):\n",
    "    print(name,\" is a palindrome\")\n",
    "else:\n",
    "    print(name,\" is not  a palindrome\")"
   ]
  },
  {
   "cell_type": "code",
   "execution_count": 2,
   "id": "de6c7a2b",
   "metadata": {},
   "outputs": [
    {
     "name": "stdout",
     "output_type": "stream",
     "text": [
      "Enter a stringshruti\n",
      "2\n"
     ]
    }
   ],
   "source": [
    "a=input(\"Enter a string\")\n",
    "count=0\n",
    "for n in range(0,len(a),1):\n",
    "        if(a[n]=='a' or a[n]=='e' or a[n]=='i' or a[n]=='o' or a[n]=='u'):\n",
    "            count+=1\n",
    "print(count)"
   ]
  },
  {
   "cell_type": "code",
   "execution_count": 3,
   "id": "393e737c",
   "metadata": {},
   "outputs": [
    {
     "name": "stdout",
     "output_type": "stream",
     "text": [
      "Enter a stringshruti sen poornima rathi vanshika soni\n",
      "no of a=> 4  no of e=> 1  no of i=> 5  no of o=> 3  no of u=> 1\n"
     ]
    }
   ],
   "source": [
    "a=input(\"Enter a string\")\n",
    "counta=0\n",
    "counte=0\n",
    "counti=0\n",
    "counto=0\n",
    "countu=0\n",
    "for n in range(0,len(a),1):\n",
    "        if(a[n]=='a'):\n",
    "            counta+=1\n",
    "        elif(a[n]=='e'):\n",
    "            counte+=1\n",
    "        elif(a[n]=='i'):\n",
    "            counti+=1\n",
    "        elif(a[n]=='o'):\n",
    "            counto+=1\n",
    "        elif(a[n]=='u'):\n",
    "            countu+=1\n",
    "        \n",
    "print(\"no of a=>\",counta,\" no of e=>\",counte,\" no of i=>\",counti,\" no of o=>\",counto,\" no of u=>\",countu)"
   ]
  },
  {
   "cell_type": "code",
   "execution_count": 8,
   "id": "2a0a0328",
   "metadata": {},
   "outputs": [
    {
     "name": "stdout",
     "output_type": "stream",
     "text": [
      "Enter a stringshruti\n",
      "shr#t#\n"
     ]
    }
   ],
   "source": [
    "a=input(\"Enter a string\")\n",
    "for x in a:\n",
    "        if(x=='a' or x=='e' or x=='i' or x=='o' or x=='u'):\n",
    "            a=a.replace(x,'#')\n",
    "print(a)"
   ]
  },
  {
   "cell_type": "code",
   "execution_count": null,
   "id": "11924130",
   "metadata": {},
   "outputs": [],
   "source": []
  }
 ],
 "metadata": {
  "kernelspec": {
   "display_name": "Python 3 (ipykernel)",
   "language": "python",
   "name": "python3"
  },
  "language_info": {
   "codemirror_mode": {
    "name": "ipython",
    "version": 3
   },
   "file_extension": ".py",
   "mimetype": "text/x-python",
   "name": "python",
   "nbconvert_exporter": "python",
   "pygments_lexer": "ipython3",
   "version": "3.10.9"
  }
 },
 "nbformat": 4,
 "nbformat_minor": 5
}
