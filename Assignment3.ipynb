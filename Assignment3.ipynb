{
 "cells": [
  {
   "cell_type": "markdown",
   "id": "f05c2628",
   "metadata": {},
   "source": [
    "Assignment 3"
   ]
  },
  {
   "cell_type": "code",
   "execution_count": 12,
   "id": "07e5c5bb",
   "metadata": {},
   "outputs": [
    {
     "name": "stdout",
     "output_type": "stream",
     "text": [
      "enter a stringshruti\n",
      "{'s': 1, 'h': 1, 'r': 1, 'u': 1, 't': 1, 'i': 1}\n"
     ]
    }
   ],
   "source": [
    "#take a input from the user and count each char and put it into the dictionary.\n",
    "name=input(\"enter a string\")\n",
    "num={}\n",
    "for i in name:\n",
    "    if i in num:\n",
    "        num[i]=num[i]+1\n",
    "    else:\n",
    "        num[i]=1\n",
    "print(num)"
   ]
  },
  {
   "cell_type": "code",
   "execution_count": 22,
   "id": "b5ca7ac1",
   "metadata": {},
   "outputs": [
    {
     "name": "stdout",
     "output_type": "stream",
     "text": [
      "enter something: shrtui\n"
     ]
    },
    {
     "ename": "IndexError",
     "evalue": "list assignment index out of range",
     "output_type": "error",
     "traceback": [
      "\u001b[1;31m---------------------------------------------------------------------------\u001b[0m",
      "\u001b[1;31mIndexError\u001b[0m                                Traceback (most recent call last)",
      "Cell \u001b[1;32mIn[22], line 7\u001b[0m\n\u001b[0;32m      5\u001b[0m num\u001b[38;5;241m=\u001b[39m[]\n\u001b[0;32m      6\u001b[0m \u001b[38;5;28;01mfor\u001b[39;00m i \u001b[38;5;129;01min\u001b[39;00m \u001b[38;5;28mrange\u001b[39m(\u001b[38;5;241m0\u001b[39m,x):\n\u001b[1;32m----> 7\u001b[0m     num[i]\u001b[38;5;241m=\u001b[39ma[i]\n\u001b[0;32m      9\u001b[0m \u001b[38;5;28mprint\u001b[39m(num)\n",
      "\u001b[1;31mIndexError\u001b[0m: list assignment index out of range"
     ]
    }
   ],
   "source": [
    "#take user input 1).A-P(min one capital letter) 2).c-z(min one letter) 3).0-9(min one number) 4).@,#,_,!(min onespecial char)\n",
    "                               #HINT: ASCII values\n",
    "n =input(\"yupe input :\")\n",
    "capital=0\n",
    "small=0\n",
    "number=0\n",
    "sp1=0\n",
    "sp2=0\n",
    "sp3=0\n",
    "for i in n:\n",
    "    if(65<=ord(i)<=90):\n",
    "        capital+=1\n",
    "    elif(97<=ord(i)<=122):\n",
    "        small+=1\n",
    "    elif(48<=ord(i)<=57):\n",
    "        number+=1\n",
    "    elif(ord(i)==64):\n",
    "        sp1+=1\n",
    "    elif(ord(i)==33):\n",
    "        sp2+=1\n",
    "    elif(ord(i)==35):\n",
    "        sp3+=1\n",
    "print(\"capital letter found: \",capital)\n",
    "print(\"samll letters found\",small)\n",
    "print(\"Numbers found\",number)\n",
    "print(\"@ is found\",sp1)\n",
    "print(\"! is found\",sp2)\n",
    "print(\"# is found\",sp3)\n",
    "\n",
    "   # if(ord(i)>=65 and ord(i)<=80 or ord(i)>=99 and ord(i)<=122 or ord(i)>=48 and ord(i)<=57 or ord(i)=64 or ord(i)=33 or ord(i)=35)"
   ]
  },
  {
   "cell_type": "code",
   "execution_count": 23,
   "id": "c3be08a9",
   "metadata": {},
   "outputs": [
    {
     "name": "stdout",
     "output_type": "stream",
     "text": [
      "\n",
      "1 \n",
      "1 2 \n",
      "1 2 3 \n",
      "1 2 3 4 "
     ]
    }
   ],
   "source": []
  },
  {
   "cell_type": "code",
   "execution_count": 2,
   "id": "0235b7a1",
   "metadata": {},
   "outputs": [
    {
     "name": "stdout",
     "output_type": "stream",
     "text": [
      "type input: 4\n",
      "      *  \n",
      "    * * *  \n",
      "  * * * * *  \n",
      "* * * * * * *  \n"
     ]
    }
   ],
   "source": [
    "n=int(input(\"type input: \"))\n",
    "for r in range(1,n+1):\n",
    "    for sp in range(1,n+1-r):\n",
    "        print(\" \",end=\" \")\n",
    "    for c in range(1,(r*2)):\n",
    "        print(\"*\",end=\" \")\n",
    "    print(\" \")\n",
    "\n",
    "        "
   ]
  },
  {
   "cell_type": "code",
   "execution_count": null,
   "id": "4d09f1d6",
   "metadata": {},
   "outputs": [],
   "source": [
    "#take user from input num\n",
    "num=int(input(\"enter a number: \"))\n",
    "count=0\n",
    "for i in (0,2,1):\n",
    "    count=count+num%10\n",
    "    num=num/10\n",
    "    print(count)\n",
    "if(count%3==0):\n",
    "    print(\"num is divisible\")\n",
    "else:\n",
    "    print(\"num is not divisible\")"
   ]
  },
  {
   "cell_type": "code",
   "execution_count": null,
   "id": "db36934d",
   "metadata": {},
   "outputs": [],
   "source": []
  }
 ],
 "metadata": {
  "kernelspec": {
   "display_name": "Python 3 (ipykernel)",
   "language": "python",
   "name": "python3"
  },
  "language_info": {
   "codemirror_mode": {
    "name": "ipython",
    "version": 3
   },
   "file_extension": ".py",
   "mimetype": "text/x-python",
   "name": "python",
   "nbconvert_exporter": "python",
   "pygments_lexer": "ipython3",
   "version": "3.10.9"
  }
 },
 "nbformat": 4,
 "nbformat_minor": 5
}
