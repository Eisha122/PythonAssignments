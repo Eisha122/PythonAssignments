{
 "cells": [
  {
   "cell_type": "markdown",
   "id": "59fbcce5",
   "metadata": {},
   "source": [
    "Assignment 1"
   ]
  },
  {
   "cell_type": "code",
   "execution_count": 1,
   "id": "45f51e47",
   "metadata": {},
   "outputs": [
    {
     "name": "stdout",
     "output_type": "stream",
     "text": [
      "\n",
      "*\n",
      "**\n",
      "***\n",
      "****"
     ]
    }
   ],
   "source": [
    "for rows in range(1,5):\n",
    "    print()\n",
    "    for col in range(1,rows+1):\n",
    "        print(\"*\",end=\"\")"
   ]
  },
  {
   "cell_type": "code",
   "execution_count": 2,
   "id": "c1e30482",
   "metadata": {},
   "outputs": [
    {
     "name": "stdout",
     "output_type": "stream",
     "text": [
      "\n",
      "****\n",
      "***\n",
      "**\n",
      "*"
     ]
    }
   ],
   "source": [
    "for rows in range(5,1,-1):\n",
    "    print()\n",
    "    for col in range(rows-1,0,-1):\n",
    "        print(\"*\",end=\"\")\n",
    "        "
   ]
  },
  {
   "cell_type": "code",
   "execution_count": 3,
   "id": "179fbc19",
   "metadata": {},
   "outputs": [
    {
     "name": "stdout",
     "output_type": "stream",
     "text": [
      "\n",
      "1 \n",
      "1 2 \n",
      "1 2 3 \n",
      "1 2 3 4 "
     ]
    }
   ],
   "source": [
    "for rows in range(1,5):\n",
    "    print()\n",
    "    for col in range(1,rows+1):\n",
    "        print(col,end=\" \")\n",
    "        "
   ]
  },
  {
   "cell_type": "code",
   "execution_count": 4,
   "id": "e9c9a368",
   "metadata": {},
   "outputs": [
    {
     "name": "stdout",
     "output_type": "stream",
     "text": [
      "\n",
      "4 3 2 1 \n",
      "3 2 1 \n",
      "2 1 \n",
      "1 "
     ]
    }
   ],
   "source": [
    "for rows in range(5,1,-1):\n",
    "    print()\n",
    "    for col in range(rows-1,0,-1):\n",
    "        print(col,end=\" \")\n",
    "        "
   ]
  },
  {
   "cell_type": "code",
   "execution_count": 5,
   "id": "0dbeb228",
   "metadata": {},
   "outputs": [
    {
     "name": "stdout",
     "output_type": "stream",
     "text": [
      "1 \n",
      "2 3 \n",
      "4 5 6 \n",
      "7 8 9 10 \n"
     ]
    }
   ],
   "source": [
    "m=0\n",
    "for rows in range(1,5):\n",
    "    for col in range(1,rows+1):\n",
    "        m=m+1\n",
    "        print(m,end=\" \")\n",
    "    print()"
   ]
  },
  {
   "cell_type": "code",
   "execution_count": 6,
   "id": "dd2afedc",
   "metadata": {},
   "outputs": [
    {
     "name": "stdout",
     "output_type": "stream",
     "text": [
      "4321\n",
      " 321\n",
      "  21\n",
      "   1\n",
      "    \n"
     ]
    }
   ],
   "source": [
    "for rows in range(5,0,-1):\n",
    "    for i in range(5,rows,-1):\n",
    "        print(\" \",end=\"\")\n",
    "    for col in range(rows-1,0,-1):\n",
    "        print(col,end=\"\")\n",
    "    print()\n",
    "        "
   ]
  },
  {
   "cell_type": "code",
   "execution_count": 7,
   "id": "80999e92",
   "metadata": {},
   "outputs": [
    {
     "name": "stdout",
     "output_type": "stream",
     "text": [
      "enter a number: 123\n"
     ]
    },
    {
     "ename": "TypeError",
     "evalue": "not all arguments converted during string formatting",
     "output_type": "error",
     "traceback": [
      "\u001b[1;31m---------------------------------------------------------------------------\u001b[0m",
      "\u001b[1;31mTypeError\u001b[0m                                 Traceback (most recent call last)",
      "Cell \u001b[1;32mIn[7], line 4\u001b[0m\n\u001b[0;32m      2\u001b[0m count\u001b[38;5;241m=\u001b[39m\u001b[38;5;241m0\u001b[39m\n\u001b[0;32m      3\u001b[0m \u001b[38;5;28;01mfor\u001b[39;00m i \u001b[38;5;129;01min\u001b[39;00m num:\n\u001b[1;32m----> 4\u001b[0m     count\u001b[38;5;241m=\u001b[39mcount\u001b[38;5;241m+\u001b[39m\u001b[43mnum\u001b[49m\u001b[38;5;241;43m%\u001b[39;49m\u001b[38;5;241;43m10\u001b[39;49m\n\u001b[0;32m      5\u001b[0m     num\u001b[38;5;241m=\u001b[39m\u001b[38;5;28mint\u001b[39m(num\u001b[38;5;241m/\u001b[39m\u001b[38;5;241m10\u001b[39m)\n\u001b[0;32m      6\u001b[0m \u001b[38;5;28;01mif\u001b[39;00m(count\u001b[38;5;241m%\u001b[39m\u001b[38;5;241m3\u001b[39m\u001b[38;5;241m==\u001b[39m\u001b[38;5;241m0\u001b[39m):\n",
      "\u001b[1;31mTypeError\u001b[0m: not all arguments converted during string formatting"
     ]
    }
   ],
   "source": [
    "num=(input(\"enter a number: \"))\n",
    "count=0\n",
    "for i in (0,2,1):\n",
    "    count=count+num%10\n",
    "    num=int(num/10)\n",
    "if(count%3==0):\n",
    "    print(\"num is divisible\")\n",
    "else:\n",
    "    print(\"num is not divisible\")"
   ]
  },
  {
   "cell_type": "code",
   "execution_count": null,
   "id": "d02cf653",
   "metadata": {},
   "outputs": [],
   "source": []
  }
 ],
 "metadata": {
  "kernelspec": {
   "display_name": "Python 3 (ipykernel)",
   "language": "python",
   "name": "python3"
  },
  "language_info": {
   "codemirror_mode": {
    "name": "ipython",
    "version": 3
   },
   "file_extension": ".py",
   "mimetype": "text/x-python",
   "name": "python",
   "nbconvert_exporter": "python",
   "pygments_lexer": "ipython3",
   "version": "3.10.9"
  }
 },
 "nbformat": 4,
 "nbformat_minor": 5
}
