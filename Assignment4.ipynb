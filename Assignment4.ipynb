{
 "cells": [
  {
   "cell_type": "code",
   "execution_count": 4,
   "id": "32a97dc7",
   "metadata": {},
   "outputs": [
    {
     "name": "stdout",
     "output_type": "stream",
     "text": [
      "enter a num4\n",
      "\n",
      "\n",
      "*\n",
      "**\n",
      "***\n",
      "**\n",
      "*\n"
     ]
    }
   ],
   "source": [
    "a=int(input(\"enter a num\"))\n",
    "total=a*2\n",
    "for i in range(1,total):\n",
    "    print()\n",
    "    if(i<=a):\n",
    "        for j in range(1,i):\n",
    "            print(\"*\",end='')\n",
    "    else:\n",
    "        for j in range(1,total-i):\n",
    "            print(\"*\",end='')"
   ]
  },
  {
   "cell_type": "raw",
   "id": "7e191c79",
   "metadata": {},
   "source": [
    "* * * * \n",
    "*     *\n",
    "*     *\n",
    "* * * *"
   ]
  },
  {
   "cell_type": "code",
   "execution_count": 6,
   "id": "906069c0",
   "metadata": {},
   "outputs": [
    {
     "name": "stdout",
     "output_type": "stream",
     "text": [
      "* * * * \n",
      "*     * \n",
      "*     * \n",
      "* * * * \n"
     ]
    }
   ],
   "source": [
    "a=int(input(\"enter a num\"))\n",
    "for i in range(1,a+1):\n",
    "    for j in range(1,a+1):\n",
    "        if(i==1 or i==a or j==1 or j==a):\n",
    "            print(\"* \",end='')\n",
    "        else:\n",
    "            print(\"  \",end='')\n",
    "    print()\n",
    "            "
   ]
  },
  {
   "cell_type": "raw",
   "id": "c1dd1fb3",
   "metadata": {},
   "source": [
    "1\n",
    "*\n",
    "2\n",
    "* *\n",
    "3 \n",
    "* * *\n"
   ]
  },
  {
   "cell_type": "code",
   "execution_count": 14,
   "id": "b2da35b7",
   "metadata": {},
   "outputs": [
    {
     "name": "stdout",
     "output_type": "stream",
     "text": [
      "enter a num4\n",
      "1\n",
      "* \n",
      "2\n",
      "* * \n",
      "3\n",
      "* * * \n",
      "4\n",
      "* * * * \n"
     ]
    }
   ],
   "source": [
    "a=int(input(\"enter a num\"))\n",
    "for i in range(1,a+1):\n",
    "    print(i)\n",
    "    for j in range(1,i+1):\n",
    "        print(\"* \",end='')\n",
    "    print()"
   ]
  },
  {
   "cell_type": "raw",
   "id": "adc2319a",
   "metadata": {},
   "source": [
    "2 * * * *\n",
    "3 * * * * ------9\n",
    "4 * * * * ------16"
   ]
  },
  {
   "cell_type": "code",
   "execution_count": 21,
   "id": "fd267cf0",
   "metadata": {},
   "outputs": [
    {
     "name": "stdout",
     "output_type": "stream",
     "text": [
      "enter a num3\n",
      "1*\n",
      "2****\n",
      "3*********\n"
     ]
    }
   ],
   "source": [
    "a=int(input(\"enter a num\"))\n",
    "for i in range(1,a+1):\n",
    "    print(i,end='')\n",
    "    for j in range(1,(i**2)+1):\n",
    "        print(\"*\",end='')\n",
    "    print()"
   ]
  },
  {
   "cell_type": "code",
   "execution_count": 19,
   "id": "19f07eb3",
   "metadata": {},
   "outputs": [
    {
     "name": "stdout",
     "output_type": "stream",
     "text": [
      "1\n"
     ]
    }
   ],
   "source": [
    "print(1**2)\n"
   ]
  },
  {
   "cell_type": "code",
   "execution_count": null,
   "id": "23e20c04",
   "metadata": {},
   "outputs": [],
   "source": []
  }
 ],
 "metadata": {
  "kernelspec": {
   "display_name": "Python 3 (ipykernel)",
   "language": "python",
   "name": "python3"
  },
  "language_info": {
   "codemirror_mode": {
    "name": "ipython",
    "version": 3
   },
   "file_extension": ".py",
   "mimetype": "text/x-python",
   "name": "python",
   "nbconvert_exporter": "python",
   "pygments_lexer": "ipython3",
   "version": "3.10.9"
  }
 },
 "nbformat": 4,
 "nbformat_minor": 5
}
