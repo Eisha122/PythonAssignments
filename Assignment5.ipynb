{
 "cells": [
  {
   "cell_type": "code",
   "execution_count": 6,
   "id": "80a38a24",
   "metadata": {},
   "outputs": [
    {
     "name": "stdout",
     "output_type": "stream",
     "text": [
      "Enter a num: 45\n",
      "Enter a num: 90\n",
      "90\n"
     ]
    }
   ],
   "source": [
    "def lcmFinder(num1,num2):\n",
    "    if(num1>num2):\n",
    "        x=num1\n",
    "    else:\n",
    "        x=num2\n",
    "    while(x>0):\n",
    "        if(x%num1==0 and x%num2==0):\n",
    "            break\n",
    "        else:\n",
    "            x=x+1\n",
    "    return x\n",
    "num1=int(input(\"Enter a num: \"))\n",
    "num2=int(input(\"Enter a num: \"))\n",
    "print(lcmFinder(num1,num2))"
   ]
  },
  {
   "cell_type": "code",
   "execution_count": 10,
   "id": "0944aa50",
   "metadata": {},
   "outputs": [
    {
     "name": "stdout",
     "output_type": "stream",
     "text": [
      "Enter a num: 4\n",
      "Enter a num: 16\n",
      "4\n"
     ]
    }
   ],
   "source": [
    "def hcfFinder(num1,num2):\n",
    "    if(num1<num2):\n",
    "        x=num1\n",
    "    else:\n",
    "        x=num2\n",
    "    while(x>0):\n",
    "        if(x==1):\n",
    "            break\n",
    "        elif(num1%x==0 and num2%x==0):\n",
    "            break\n",
    "        else:\n",
    "            x=x-1\n",
    "    return x\n",
    "num1=int(input(\"Enter a num: \"))\n",
    "num2=int(input(\"Enter a num: \"))\n",
    "print(hcfFinder(num1,num2))"
   ]
  },
  {
   "cell_type": "code",
   "execution_count": null,
   "id": "291c2739",
   "metadata": {},
   "outputs": [],
   "source": []
  }
 ],
 "metadata": {
  "kernelspec": {
   "display_name": "Python 3 (ipykernel)",
   "language": "python",
   "name": "python3"
  },
  "language_info": {
   "codemirror_mode": {
    "name": "ipython",
    "version": 3
   },
   "file_extension": ".py",
   "mimetype": "text/x-python",
   "name": "python",
   "nbconvert_exporter": "python",
   "pygments_lexer": "ipython3",
   "version": "3.10.9"
  }
 },
 "nbformat": 4,
 "nbformat_minor": 5
}
